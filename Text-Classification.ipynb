{
 "cells": [
  {
   "cell_type": "markdown",
   "id": "621f382e",
   "metadata": {},
   "source": [
    "# Imports"
   ]
  },
  {
   "cell_type": "code",
   "execution_count": 241,
   "id": "afef2b80",
   "metadata": {},
   "outputs": [
    {
     "name": "stderr",
     "output_type": "stream",
     "text": [
      "[nltk_data] Downloading package punkt to C:\\Users\\mahmoud\n",
      "[nltk_data]     mosbah\\AppData\\Roaming\\nltk_data...\n",
      "[nltk_data]   Package punkt is already up-to-date!\n",
      "[nltk_data] Downloading package stopwords to C:\\Users\\mahmoud\n",
      "[nltk_data]     mosbah\\AppData\\Roaming\\nltk_data...\n",
      "[nltk_data]   Package stopwords is already up-to-date!\n"
     ]
    }
   ],
   "source": [
    "import numpy as np\n",
    "import pandas as pd\n",
    "import seaborn as sns\n",
    "import string\n",
    "import re\n",
    "import tensorflow as tf\n",
    "import pandas as pd\n",
    "import numpy as np\n",
    "import seaborn as sns\n",
    "import matplotlib.pyplot as plt\n",
    "from wordcloud import WordCloud\n",
    "import plotly.graph_objs as go\n",
    "from plotly.offline import init_notebook_mode,iplot\n",
    "from sklearn.feature_extraction.text import CountVectorizer\n",
    "from sklearn.model_selection import train_test_split\n",
    "from sklearn.metrics import classification_report, confusion_matrix\n",
    "# from unidecode import unidecode\n",
    "# Reading and Summarizing Text Data\n",
    "from textblob import TextBlob\n",
    "import nltk\n",
    "nltk.download('punkt')\n",
    "nltk.download(\"stopwords\")\n",
    "from nltk.tokenize import word_tokenize\n",
    "from nltk.corpus import stopwords\n",
    "import gensim\n",
    "from gensim.parsing.preprocessing import STOPWORDS\n"
   ]
  },
  {
   "cell_type": "markdown",
   "id": "61d1aa43",
   "metadata": {},
   "source": [
    "# Feature Engineering"
   ]
  },
  {
   "cell_type": "markdown",
   "id": "5d1314d7",
   "metadata": {},
   "source": [
    "### Read Data"
   ]
  },
  {
   "cell_type": "code",
   "execution_count": 242,
   "id": "d72a6194",
   "metadata": {},
   "outputs": [],
   "source": [
    "data = pd.read_csv('C:\\\\Users\\\\mahmoud mosbah\\\\Desktop\\\\amazon_alexa.tsv', sep = '\\t')"
   ]
  },
  {
   "cell_type": "code",
   "execution_count": 243,
   "id": "e1f935b5",
   "metadata": {},
   "outputs": [
    {
     "data": {
      "text/html": [
       "<div>\n",
       "<style scoped>\n",
       "    .dataframe tbody tr th:only-of-type {\n",
       "        vertical-align: middle;\n",
       "    }\n",
       "\n",
       "    .dataframe tbody tr th {\n",
       "        vertical-align: top;\n",
       "    }\n",
       "\n",
       "    .dataframe thead th {\n",
       "        text-align: right;\n",
       "    }\n",
       "</style>\n",
       "<table border=\"1\" class=\"dataframe\">\n",
       "  <thead>\n",
       "    <tr style=\"text-align: right;\">\n",
       "      <th></th>\n",
       "      <th>rating</th>\n",
       "      <th>date</th>\n",
       "      <th>variation</th>\n",
       "      <th>verified_reviews</th>\n",
       "      <th>feedback</th>\n",
       "    </tr>\n",
       "  </thead>\n",
       "  <tbody>\n",
       "    <tr>\n",
       "      <th>0</th>\n",
       "      <td>5</td>\n",
       "      <td>31-Jul-18</td>\n",
       "      <td>Charcoal Fabric</td>\n",
       "      <td>Love my Echo!</td>\n",
       "      <td>1</td>\n",
       "    </tr>\n",
       "    <tr>\n",
       "      <th>1</th>\n",
       "      <td>5</td>\n",
       "      <td>31-Jul-18</td>\n",
       "      <td>Charcoal Fabric</td>\n",
       "      <td>Loved it!</td>\n",
       "      <td>1</td>\n",
       "    </tr>\n",
       "    <tr>\n",
       "      <th>2</th>\n",
       "      <td>4</td>\n",
       "      <td>31-Jul-18</td>\n",
       "      <td>Walnut Finish</td>\n",
       "      <td>Sometimes while playing a game, you can answer...</td>\n",
       "      <td>1</td>\n",
       "    </tr>\n",
       "    <tr>\n",
       "      <th>3</th>\n",
       "      <td>5</td>\n",
       "      <td>31-Jul-18</td>\n",
       "      <td>Charcoal Fabric</td>\n",
       "      <td>I have had a lot of fun with this thing. My 4 ...</td>\n",
       "      <td>1</td>\n",
       "    </tr>\n",
       "    <tr>\n",
       "      <th>4</th>\n",
       "      <td>5</td>\n",
       "      <td>31-Jul-18</td>\n",
       "      <td>Charcoal Fabric</td>\n",
       "      <td>Music</td>\n",
       "      <td>1</td>\n",
       "    </tr>\n",
       "  </tbody>\n",
       "</table>\n",
       "</div>"
      ],
      "text/plain": [
       "   rating       date         variation  \\\n",
       "0       5  31-Jul-18  Charcoal Fabric    \n",
       "1       5  31-Jul-18  Charcoal Fabric    \n",
       "2       4  31-Jul-18    Walnut Finish    \n",
       "3       5  31-Jul-18  Charcoal Fabric    \n",
       "4       5  31-Jul-18  Charcoal Fabric    \n",
       "\n",
       "                                    verified_reviews  feedback  \n",
       "0                                      Love my Echo!         1  \n",
       "1                                          Loved it!         1  \n",
       "2  Sometimes while playing a game, you can answer...         1  \n",
       "3  I have had a lot of fun with this thing. My 4 ...         1  \n",
       "4                                              Music         1  "
      ]
     },
     "execution_count": 243,
     "metadata": {},
     "output_type": "execute_result"
    }
   ],
   "source": [
    "data.head(5)"
   ]
  },
  {
   "cell_type": "code",
   "execution_count": 244,
   "id": "a40dfec1",
   "metadata": {},
   "outputs": [
    {
     "data": {
      "text/plain": [
       "(3150, 5)"
      ]
     },
     "execution_count": 244,
     "metadata": {},
     "output_type": "execute_result"
    }
   ],
   "source": [
    "# shape of dataset \n",
    "data.shape"
   ]
  },
  {
   "cell_type": "code",
   "execution_count": 245,
   "id": "3c628d25",
   "metadata": {},
   "outputs": [
    {
     "name": "stdout",
     "output_type": "stream",
     "text": [
      "<class 'pandas.core.frame.DataFrame'>\n",
      "RangeIndex: 3150 entries, 0 to 3149\n",
      "Data columns (total 5 columns):\n",
      " #   Column            Non-Null Count  Dtype \n",
      "---  ------            --------------  ----- \n",
      " 0   rating            3150 non-null   int64 \n",
      " 1   date              3150 non-null   object\n",
      " 2   variation         3150 non-null   object\n",
      " 3   verified_reviews  3150 non-null   object\n",
      " 4   feedback          3150 non-null   int64 \n",
      "dtypes: int64(2), object(3)\n",
      "memory usage: 123.2+ KB\n"
     ]
    }
   ],
   "source": [
    "data.info()  "
   ]
  },
  {
   "cell_type": "code",
   "execution_count": 246,
   "id": "4a46949d",
   "metadata": {},
   "outputs": [
    {
     "data": {
      "text/plain": [
       "1    2893\n",
       "0     257\n",
       "Name: feedback, dtype: int64"
      ]
     },
     "execution_count": 246,
     "metadata": {},
     "output_type": "execute_result"
    }
   ],
   "source": [
    "data[\"feedback\"].value_counts()"
   ]
  },
  {
   "cell_type": "code",
   "execution_count": 247,
   "id": "d70e680d",
   "metadata": {},
   "outputs": [
    {
     "data": {
      "text/plain": [
       "<AxesSubplot: xlabel='feedback', ylabel='count'>"
      ]
     },
     "execution_count": 247,
     "metadata": {},
     "output_type": "execute_result"
    },
    {
     "data": {
      "image/png": "[encoded data removed]",
      "text/plain": [
       "<Figure size 640x480 with 1 Axes>"
      ]
     },
     "metadata": {},
     "output_type": "display_data"
    }
   ],
   "source": [
    "sns.countplot(x= data[\"feedback\"])"
   ]
  },
  {
   "cell_type": "code",
   "execution_count": 248,
   "id": "56f945e3",
   "metadata": {},
   "outputs": [
    {
     "data": {
      "text/plain": [
       "rating              0\n",
       "date                0\n",
       "variation           0\n",
       "verified_reviews    0\n",
       "feedback            0\n",
       "dtype: int64"
      ]
     },
     "execution_count": 248,
     "metadata": {},
     "output_type": "execute_result"
    }
   ],
   "source": [
    "# show the number of null values in data\n",
    "data.isnull().sum()"
   ]
  },
  {
   "cell_type": "code",
   "execution_count": 249,
   "id": "42d34c94",
   "metadata": {},
   "outputs": [],
   "source": [
    "#droup the null value in dataset\n",
    "data = data.dropna()"
   ]
  },
  {
   "cell_type": "code",
   "execution_count": 250,
   "id": "dd8e250f",
   "metadata": {},
   "outputs": [
    {
     "name": "stdout",
     "output_type": "stream",
     "text": [
      "Number of duplicate rows: 715\n"
     ]
    }
   ],
   "source": [
    "#let's check if there is duplicate values\n",
    "duplicates = data[data.duplicated()]\n",
    "print(f'Number of duplicate rows: {len(duplicates)}')"
   ]
  },
  {
   "cell_type": "code",
   "execution_count": 251,
   "id": "10ac0727",
   "metadata": {},
   "outputs": [
    {
     "name": "stdout",
     "output_type": "stream",
     "text": [
      "Duplicates Removed\n"
     ]
    }
   ],
   "source": [
    "data.drop_duplicates(inplace=True)\n",
    "if data.duplicated().sum()==0:   \n",
    "    print('Duplicates Removed')\n",
    "else:\n",
    "    print('there is still duplicates')"
   ]
  },
  {
   "cell_type": "code",
   "execution_count": 252,
   "id": "e2b8e44d",
   "metadata": {},
   "outputs": [
    {
     "data": {
      "text/plain": [
       "rating              0\n",
       "date                0\n",
       "variation           0\n",
       "verified_reviews    0\n",
       "feedback            0\n",
       "dtype: int64"
      ]
     },
     "execution_count": 252,
     "metadata": {},
     "output_type": "execute_result"
    }
   ],
   "source": [
    "# show the number of null values in data After  remove the null values\n",
    "data.isnull().sum()"
   ]
  },
  {
   "cell_type": "code",
   "execution_count": 253,
   "id": "2a4d0772",
   "metadata": {},
   "outputs": [
    {
     "data": {
      "text/plain": [
       "(2435, 5)"
      ]
     },
     "execution_count": 253,
     "metadata": {},
     "output_type": "execute_result"
    }
   ],
   "source": [
    "data.shape"
   ]
  },
  {
   "cell_type": "code",
   "execution_count": 254,
   "id": "86aa1098",
   "metadata": {},
   "outputs": [
    {
     "data": {
      "text/plain": [
       "1    2214\n",
       "0     221\n",
       "Name: feedback, dtype: int64"
      ]
     },
     "execution_count": 254,
     "metadata": {},
     "output_type": "execute_result"
    }
   ],
   "source": [
    "data[\"feedback\"].value_counts()"
   ]
  },
  {
   "cell_type": "code",
   "execution_count": 255,
   "id": "afd7f35c",
   "metadata": {},
   "outputs": [
    {
     "data": {
      "text/html": [
       "<div>\n",
       "<style scoped>\n",
       "    .dataframe tbody tr th:only-of-type {\n",
       "        vertical-align: middle;\n",
       "    }\n",
       "\n",
       "    .dataframe tbody tr th {\n",
       "        vertical-align: top;\n",
       "    }\n",
       "\n",
       "    .dataframe thead th {\n",
       "        text-align: right;\n",
       "    }\n",
       "</style>\n",
       "<table border=\"1\" class=\"dataframe\">\n",
       "  <thead>\n",
       "    <tr style=\"text-align: right;\">\n",
       "      <th></th>\n",
       "      <th>rating</th>\n",
       "      <th>feedback</th>\n",
       "    </tr>\n",
       "  </thead>\n",
       "  <tbody>\n",
       "    <tr>\n",
       "      <th>count</th>\n",
       "      <td>2435.000000</td>\n",
       "      <td>2435.000000</td>\n",
       "    </tr>\n",
       "    <tr>\n",
       "      <th>mean</th>\n",
       "      <td>4.435318</td>\n",
       "      <td>0.909240</td>\n",
       "    </tr>\n",
       "    <tr>\n",
       "      <th>std</th>\n",
       "      <td>1.109562</td>\n",
       "      <td>0.287326</td>\n",
       "    </tr>\n",
       "    <tr>\n",
       "      <th>min</th>\n",
       "      <td>1.000000</td>\n",
       "      <td>0.000000</td>\n",
       "    </tr>\n",
       "    <tr>\n",
       "      <th>25%</th>\n",
       "      <td>4.000000</td>\n",
       "      <td>1.000000</td>\n",
       "    </tr>\n",
       "    <tr>\n",
       "      <th>50%</th>\n",
       "      <td>5.000000</td>\n",
       "      <td>1.000000</td>\n",
       "    </tr>\n",
       "    <tr>\n",
       "      <th>75%</th>\n",
       "      <td>5.000000</td>\n",
       "      <td>1.000000</td>\n",
       "    </tr>\n",
       "    <tr>\n",
       "      <th>max</th>\n",
       "      <td>5.000000</td>\n",
       "      <td>1.000000</td>\n",
       "    </tr>\n",
       "  </tbody>\n",
       "</table>\n",
       "</div>"
      ],
      "text/plain": [
       "            rating     feedback\n",
       "count  2435.000000  2435.000000\n",
       "mean      4.435318     0.909240\n",
       "std       1.109562     0.287326\n",
       "min       1.000000     0.000000\n",
       "25%       4.000000     1.000000\n",
       "50%       5.000000     1.000000\n",
       "75%       5.000000     1.000000\n",
       "max       5.000000     1.000000"
      ]
     },
     "execution_count": 255,
     "metadata": {},
     "output_type": "execute_result"
    }
   ],
   "source": [
    "data.describe()"
   ]
  },
  {
   "cell_type": "code",
   "execution_count": 256,
   "id": "2f123bb4",
   "metadata": {},
   "outputs": [
    {
     "name": "stdout",
     "output_type": "stream",
     "text": [
      "                                                                                                                                                                                                                      50\n",
      "Love it!                                                                                                                                                                                                              14\n",
      "Love it                                                                                                                                                                                                               13\n",
      "Great product                                                                                                                                                                                                          8\n",
      "Works great!                                                                                                                                                                                                           6\n",
      "                                                                                                                                                                                                                      ..\n",
      "We love our echo spots. We now have three through the house and like that you can drop in on the other spots. We do wish the clock faces had more customization options and that there were more faces in general.     1\n",
      "Like the little spot,  now our guest room is Alexa enabled.                                                                                                                                                            1\n",
      "This is our first step into a smart home. Soon as I added one item to the grocery list I started loving it. My wife was so-so about it ‘til I opened rain sounds. She’s a convert. 😉 LOVE these and the dots.          1\n",
      "It won’t receive calls and it’s really hard to call someone who has another echo.                                                                                                                                      1\n",
      "The echo dot was easy to set up and use. It helps provide music, etc. to small spaces and was just what I was looking for.                                                                                             1\n",
      "Name: verified_reviews, Length: 2301, dtype: int64\n"
     ]
    }
   ],
   "source": [
    "print(data[\"verified_reviews\"].value_counts())"
   ]
  },
  {
   "cell_type": "code",
   "execution_count": 257,
   "id": "5d8ad1e0",
   "metadata": {},
   "outputs": [
    {
     "data": {
      "text/plain": [
       "0        13\n",
       "1         9\n",
       "2       195\n",
       "3       172\n",
       "4         5\n",
       "       ... \n",
       "2796    441\n",
       "2797    380\n",
       "2798      4\n",
       "2799     27\n",
       "2800    122\n",
       "Name: length, Length: 2435, dtype: int64"
      ]
     },
     "execution_count": 257,
     "metadata": {},
     "output_type": "execute_result"
    }
   ],
   "source": [
    "# Length: refers to the number of characters, words, or sentences in a piece of text.\n",
    "\n",
    "#Polarity and Subjectivity\n",
    "\n",
    "data[\"length\"] = data[\"verified_reviews\"].apply(len)\n",
    "\n",
    "data[\"length\"]"
   ]
  },
  {
   "cell_type": "code",
   "execution_count": 258,
   "id": "59f7166e",
   "metadata": {},
   "outputs": [],
   "source": [
    "#Polarity refers to the sentiment or the degree of positivity or negativity in a piece of text. \n",
    "def get_polarity(text):\n",
    "    textblob = TextBlob(str(text.encode(\"utf-8\")))\n",
    "    pol = textblob.sentiment.polarity\n",
    "    return pol\n",
    "\n",
    "#Subjectivity: Subjectivity refers to the degree of objectivity or subjectivity in a piece of text.\n",
    "def get_subjectivity(text):\n",
    "    textblob = TextBlob(str(text.encode(\"utf-8\")))\n",
    "    pol = textblob.sentiment.subjectivity\n",
    "    return pol"
   ]
  },
  {
   "cell_type": "code",
   "execution_count": 259,
   "id": "0429b79b",
   "metadata": {},
   "outputs": [
    {
     "data": {
      "text/html": [
       "<div>\n",
       "<style scoped>\n",
       "    .dataframe tbody tr th:only-of-type {\n",
       "        vertical-align: middle;\n",
       "    }\n",
       "\n",
       "    .dataframe tbody tr th {\n",
       "        vertical-align: top;\n",
       "    }\n",
       "\n",
       "    .dataframe thead th {\n",
       "        text-align: right;\n",
       "    }\n",
       "</style>\n",
       "<table border=\"1\" class=\"dataframe\">\n",
       "  <thead>\n",
       "    <tr style=\"text-align: right;\">\n",
       "      <th></th>\n",
       "      <th>length</th>\n",
       "      <th>Polarity</th>\n",
       "      <th>Subjectivity</th>\n",
       "    </tr>\n",
       "  </thead>\n",
       "  <tbody>\n",
       "    <tr>\n",
       "      <th>count</th>\n",
       "      <td>2435.000000</td>\n",
       "      <td>2435.000000</td>\n",
       "      <td>2435.000000</td>\n",
       "    </tr>\n",
       "    <tr>\n",
       "      <th>mean</th>\n",
       "      <td>137.899384</td>\n",
       "      <td>0.347964</td>\n",
       "      <td>0.531035</td>\n",
       "    </tr>\n",
       "    <tr>\n",
       "      <th>std</th>\n",
       "      <td>192.397673</td>\n",
       "      <td>0.304757</td>\n",
       "      <td>0.254434</td>\n",
       "    </tr>\n",
       "    <tr>\n",
       "      <th>min</th>\n",
       "      <td>1.000000</td>\n",
       "      <td>-1.000000</td>\n",
       "      <td>0.000000</td>\n",
       "    </tr>\n",
       "    <tr>\n",
       "      <th>25%</th>\n",
       "      <td>31.000000</td>\n",
       "      <td>0.125000</td>\n",
       "      <td>0.422421</td>\n",
       "    </tr>\n",
       "    <tr>\n",
       "      <th>50%</th>\n",
       "      <td>77.000000</td>\n",
       "      <td>0.350000</td>\n",
       "      <td>0.585000</td>\n",
       "    </tr>\n",
       "    <tr>\n",
       "      <th>75%</th>\n",
       "      <td>170.500000</td>\n",
       "      <td>0.531905</td>\n",
       "      <td>0.697847</td>\n",
       "    </tr>\n",
       "    <tr>\n",
       "      <th>max</th>\n",
       "      <td>2851.000000</td>\n",
       "      <td>1.000000</td>\n",
       "      <td>1.000000</td>\n",
       "    </tr>\n",
       "  </tbody>\n",
       "</table>\n",
       "</div>"
      ],
      "text/plain": [
       "            length     Polarity  Subjectivity\n",
       "count  2435.000000  2435.000000   2435.000000\n",
       "mean    137.899384     0.347964      0.531035\n",
       "std     192.397673     0.304757      0.254434\n",
       "min       1.000000    -1.000000      0.000000\n",
       "25%      31.000000     0.125000      0.422421\n",
       "50%      77.000000     0.350000      0.585000\n",
       "75%     170.500000     0.531905      0.697847\n",
       "max    2851.000000     1.000000      1.000000"
      ]
     },
     "execution_count": 259,
     "metadata": {},
     "output_type": "execute_result"
    }
   ],
   "source": [
    "data[\"Polarity\"] = data[\"verified_reviews\"].apply(get_polarity)\n",
    "data[\"Subjectivity\"] = data[\"verified_reviews\"].apply(get_subjectivity)\n",
    "\n",
    "data[['length', 'Polarity', 'Subjectivity']].describe()"
   ]
  },
  {
   "cell_type": "code",
   "execution_count": 260,
   "id": "a97a9057",
   "metadata": {},
   "outputs": [
    {
     "data": {
      "text/html": [
       "<div>\n",
       "<style scoped>\n",
       "    .dataframe tbody tr th:only-of-type {\n",
       "        vertical-align: middle;\n",
       "    }\n",
       "\n",
       "    .dataframe tbody tr th {\n",
       "        vertical-align: top;\n",
       "    }\n",
       "\n",
       "    .dataframe thead th {\n",
       "        text-align: right;\n",
       "    }\n",
       "</style>\n",
       "<table border=\"1\" class=\"dataframe\">\n",
       "  <thead>\n",
       "    <tr style=\"text-align: right;\">\n",
       "      <th></th>\n",
       "      <th>charsCount</th>\n",
       "      <th>wordCount</th>\n",
       "      <th>word_density</th>\n",
       "    </tr>\n",
       "  </thead>\n",
       "  <tbody>\n",
       "    <tr>\n",
       "      <th>count</th>\n",
       "      <td>2435.000000</td>\n",
       "      <td>2435.000000</td>\n",
       "      <td>2435.000000</td>\n",
       "    </tr>\n",
       "    <tr>\n",
       "      <th>mean</th>\n",
       "      <td>137.899384</td>\n",
       "      <td>26.377413</td>\n",
       "      <td>4.635989</td>\n",
       "    </tr>\n",
       "    <tr>\n",
       "      <th>std</th>\n",
       "      <td>192.397673</td>\n",
       "      <td>36.443967</td>\n",
       "      <td>1.137202</td>\n",
       "    </tr>\n",
       "    <tr>\n",
       "      <th>min</th>\n",
       "      <td>1.000000</td>\n",
       "      <td>0.000000</td>\n",
       "      <td>0.500000</td>\n",
       "    </tr>\n",
       "    <tr>\n",
       "      <th>25%</th>\n",
       "      <td>31.000000</td>\n",
       "      <td>6.000000</td>\n",
       "      <td>4.285714</td>\n",
       "    </tr>\n",
       "    <tr>\n",
       "      <th>50%</th>\n",
       "      <td>77.000000</td>\n",
       "      <td>15.000000</td>\n",
       "      <td>4.818182</td>\n",
       "    </tr>\n",
       "    <tr>\n",
       "      <th>75%</th>\n",
       "      <td>170.500000</td>\n",
       "      <td>33.000000</td>\n",
       "      <td>5.214286</td>\n",
       "    </tr>\n",
       "    <tr>\n",
       "      <th>max</th>\n",
       "      <td>2851.000000</td>\n",
       "      <td>526.000000</td>\n",
       "      <td>32.500000</td>\n",
       "    </tr>\n",
       "  </tbody>\n",
       "</table>\n",
       "</div>"
      ],
      "text/plain": [
       "        charsCount    wordCount  word_density\n",
       "count  2435.000000  2435.000000   2435.000000\n",
       "mean    137.899384    26.377413      4.635989\n",
       "std     192.397673    36.443967      1.137202\n",
       "min       1.000000     0.000000      0.500000\n",
       "25%      31.000000     6.000000      4.285714\n",
       "50%      77.000000    15.000000      4.818182\n",
       "75%     170.500000    33.000000      5.214286\n",
       "max    2851.000000   526.000000     32.500000"
      ]
     },
     "execution_count": 260,
     "metadata": {},
     "output_type": "execute_result"
    }
   ],
   "source": [
    "# Words , Characters and punctuation\n",
    "\n",
    "data[\"charsCount\"] = data[\"verified_reviews\"].apply(len)\n",
    "data[\"wordCount\"] = data[\"verified_reviews\"].apply(lambda x: len(x.split()))\n",
    "data[\"word_density\"] = data[\"charsCount\"] / (data[\"wordCount\"]+1)\n",
    "\n",
    "data[['charsCount', 'wordCount', 'word_density']].describe()"
   ]
  },
  {
   "cell_type": "code",
   "execution_count": 261,
   "id": "2e657ec8",
   "metadata": {},
   "outputs": [
    {
     "name": "stdout",
     "output_type": "stream",
     "text": [
      "!\"#$%&'()*+,-./:;<=>?@[\\]^_`{|}~\n",
      "\n",
      "        charsCount    wordCount  word_density  punctuation_count\n",
      "count  2435.000000  2435.000000   2435.000000        2435.000000\n",
      "mean    137.899384    26.377413      4.635989           4.042710\n",
      "std     192.397673    36.443967      1.137202           6.084976\n",
      "min       1.000000     0.000000      0.500000           0.000000\n",
      "25%      31.000000     6.000000      4.285714           1.000000\n",
      "50%      77.000000    15.000000      4.818182           2.000000\n",
      "75%     170.500000    33.000000      5.214286           5.000000\n",
      "max    2851.000000   526.000000     32.500000         121.000000\n",
      "   rating       date         variation  \\\n",
      "0       5  31-Jul-18  Charcoal Fabric    \n",
      "1       5  31-Jul-18  Charcoal Fabric    \n",
      "2       4  31-Jul-18    Walnut Finish    \n",
      "3       5  31-Jul-18  Charcoal Fabric    \n",
      "4       5  31-Jul-18  Charcoal Fabric    \n",
      "\n",
      "                                    verified_reviews  feedback  length  \\\n",
      "0                                      Love my Echo!         1      13   \n",
      "1                                          Loved it!         1       9   \n",
      "2  Sometimes while playing a game, you can answer...         1     195   \n",
      "3  I have had a lot of fun with this thing. My 4 ...         1     172   \n",
      "4                                              Music         1       5   \n",
      "\n",
      "   Polarity  Subjectivity  charsCount  wordCount  word_density  \\\n",
      "0     0.625        0.6000          13          3      3.250000   \n",
      "1     0.875        0.8000           9          2      3.000000   \n",
      "2    -0.100        0.5125         195         38      5.000000   \n",
      "3     0.350        0.4500         172         34      4.914286   \n",
      "4     0.000        0.0000           5          1      2.500000   \n",
      "\n",
      "   punctuation_count  \n",
      "0                  1  \n",
      "1                  1  \n",
      "2                  3  \n",
      "3                  4  \n",
      "4                  0  \n"
     ]
    }
   ],
   "source": [
    "punctuation = string.punctuation\n",
    "\n",
    "print(punctuation , end = \"\\n\\n\")\n",
    "\n",
    "# calculating count of punctuation\n",
    "data['punctuation_count'] = data['verified_reviews'].apply(lambda x: len(\"\".join(_ for _ in x if _ in punctuation)))\n",
    "\n",
    "print(data[['charsCount', 'wordCount', 'word_density', 'punctuation_count']].describe())\n",
    "print(data.head())"
   ]
  },
  {
   "cell_type": "markdown",
   "id": "d7ace878",
   "metadata": {},
   "source": [
    "# Data Cleaning"
   ]
  },
  {
   "cell_type": "code",
   "execution_count": 262,
   "id": "ef0ab118",
   "metadata": {},
   "outputs": [
    {
     "data": {
      "text/plain": [
       "0                                        love my echo!\n",
       "1                                            loved it!\n",
       "2    sometimes while playing a game, you can answer...\n",
       "3    i have had a lot of fun with this thing. my 4 ...\n",
       "4                                                music\n",
       "Name: review, dtype: object"
      ]
     },
     "execution_count": 262,
     "metadata": {},
     "output_type": "execute_result"
    }
   ],
   "source": [
    "#lower case\n",
    "data['review'] = data['verified_reviews'].apply(lambda x:  x.lower())\n",
    "\n",
    "data['review'].head()"
   ]
  },
  {
   "cell_type": "code",
   "execution_count": 263,
   "id": "c3be7f9d",
   "metadata": {},
   "outputs": [
    {
     "data": {
      "text/plain": [
       "0                                         love my echo\n",
       "1                                             loved it\n",
       "2    sometimes while playing a game you can answer ...\n",
       "3    i have had a lot of fun with this thing my 4 y...\n",
       "4                                                music\n",
       "Name: review, dtype: object"
      ]
     },
     "execution_count": 263,
     "metadata": {},
     "output_type": "execute_result"
    }
   ],
   "source": [
    "# remove punctuations\n",
    "def punctuation_removal(messy_text):\n",
    "    clean_list = [char for char in messy_text if char not in string.punctuation]\n",
    "    clean_str = ''.join(clean_list)\n",
    "    return clean_str\n",
    "\n",
    "data['review'] = data['review'].apply(punctuation_removal)\n",
    "\n",
    "data['review'].head()"
   ]
  },
  {
   "cell_type": "code",
   "execution_count": 264,
   "id": "27545ff8",
   "metadata": {},
   "outputs": [
    {
     "data": {
      "text/plain": [
       "0                                         love my echo\n",
       "1                                             loved it\n",
       "2    sometimes while playing a game you can answer ...\n",
       "3    i have had a lot of fun with this thing my  yr...\n",
       "4                                                music\n",
       "Name: review, dtype: object"
      ]
     },
     "execution_count": 264,
     "metadata": {},
     "output_type": "execute_result"
    }
   ],
   "source": [
    "# removing numbers\n",
    "\n",
    "def numbers_removal(list_text):\n",
    "    list_text_new = []\n",
    "    for i in list_text:\n",
    "        if not re.search('\\d',i):\n",
    "            list_text_new.append(i)\n",
    "    return ''.join(list_text_new)\n",
    "\n",
    "\n",
    "data['review'] = data['review'].apply(numbers_removal)\n",
    "\n",
    "data['review'].head()"
   ]
  },
  {
   "cell_type": "code",
   "execution_count": 265,
   "id": "15b186ae",
   "metadata": {},
   "outputs": [
    {
     "data": {
      "text/plain": [
       "0                                         love my echo\n",
       "1                                             loved it\n",
       "2    sometimes while playing a game you can answer ...\n",
       "3    i have had a lot of fun with this thing my  yr...\n",
       "4                                                music\n",
       "Name: review, dtype: object"
      ]
     },
     "execution_count": 265,
     "metadata": {},
     "output_type": "execute_result"
    }
   ],
   "source": [
    "#Removing Emails\n",
    "def remove_Emails(text):\n",
    "    pattern=r'\\S+@\\S+'\n",
    "    text=re.sub(pattern,'',text)\n",
    "    return text\n",
    "\n",
    "#Removing URLS\n",
    "def remove_URLS(text):\n",
    "    pattern=r'http\\S+'\n",
    "    text=re.sub(pattern,'',text)\n",
    "    return text\n",
    "\n",
    "data['review'] = data['review'].apply(remove_Emails ,remove_URLS )\n",
    "\n",
    "data['review'].head()"
   ]
  },
  {
   "cell_type": "code",
   "execution_count": 266,
   "id": "874bce5b",
   "metadata": {},
   "outputs": [
    {
     "name": "stdout",
     "output_type": "stream",
     "text": [
      "Defaulting to user installation because normal site-packages is not writeable\n",
      "Requirement already satisfied: unidecode in c:\\users\\mahmoud mosbah\\appdata\\roaming\\python\\python311\\site-packages (1.3.6)\n"
     ]
    },
    {
     "data": {
      "text/plain": [
       "0                                         love my echo\n",
       "1                                             loved it\n",
       "2    sometimes while playing a game you can answer ...\n",
       "3    i have had a lot of fun with this thing my  yr...\n",
       "4                                                music\n",
       "Name: review, dtype: object"
      ]
     },
     "execution_count": 266,
     "metadata": {},
     "output_type": "execute_result"
    }
   ],
   "source": [
    "# removing Special Characters & accents\n",
    "!pip install unidecode\n",
    "from unidecode import unidecode\n",
    "def special_char_removal(text):\n",
    "    pat = r'^[a-zA-Z0-9]'\n",
    "    string = re.sub(pat,'',text[0]+text)\n",
    "    return unidecode(string)\n",
    "\n",
    "data['review'] = data.apply(lambda x:  special_char_removal(x['review']),axis=1)\n",
    "\n",
    "data['review'].head()"
   ]
  },
  {
   "cell_type": "code",
   "execution_count": 267,
   "id": "5877ebcd",
   "metadata": {},
   "outputs": [
    {
     "name": "stdout",
     "output_type": "stream",
     "text": [
      "{'wherever', 'whenever', 'some', 'every', 'nine', 'has', 'how', 'con', 'amongst', 'what', 'everywhere', 'unless', 'his', 'otherwise', 'detail', 'yours', 'while', 'whoever', 'the', 'that', 'hundred', 'us', 'mill', 'yet', 'perhaps', 'but', 'which', 'should', 'have', 'bottom', 'meanwhile', 'between', 'front', 'hereby', 'ie', 'toward', 'least', 'themselves', 'because', 'thin', 'sincere', 'two', 'find', 'thus', 'seeming', 'therein', 'together', 'show', 'yourselves', 'call', 'my', 'before', 'may', 'each', 'do', 'nothing', 'why', 'mostly', 'over', 'both', 'thereby', 'if', 'latterly', 'anyone', 'hereafter', 'within', 'per', 'across', 'cry', 'or', 'hence', 'were', 'against', 'own', 'from', 'ours', 'these', 'at', 'are', 'something', 'hereupon', 'we', 'whether', 'now', 'de', 'didn', 'by', 'whose', 'km', 'into', 'beyond', 'those', 'make', 'anywhere', 'any', 'fire', 'describe', 'who', 'namely', 'quite', 'among', 'full', 'up', 'however', 'along', 'other', 'hasnt', 'kg', 'seems', 'seem', 'indeed', 'empty', 'than', 'its', 'there', 'none', 'someone', 'their', 'as', 'behind', 'still', 'most', 'all', 'nowhere', 'whence', 'part', 'already', 'him', 'else', 'your', 'former', 'herself', 'whereby', 'mine', 'whom', 'take', 'through', 'himself', 'whereupon', 'same', 'found', 'moreover', 'anyway', 'about', 'system', 'been', 'via', 'further', 'though', 'our', 'must', 'go', 'becomes', 'towards', 'somewhere', 'back', 'interest', 'upon', 'was', 'being', 'will', 'ten', 'regarding', 'below', 'eg', 'next', 'anything', 'whither', 'give', 'really', 'myself', 'one', 'in', 'can', 'i', 'few', 'move', 'co', 'itself', 'less', 'get', 'cant', 'thereupon', 'couldnt', 'rather', 'amount', 'yourself', 'somehow', 'everything', 'due', 'ever', 'formerly', 'see', 'on', 'it', 'whatever', 're', 'a', 'he', 'sometimes', 'top', 'even', 'another', 'whereafter', 'etc', 'had', 'please', 'thence', 'beside', 'twelve', 'and', 'without', 'becoming', 'wherein', 'since', 'various', 'very', 'out', 'no', 'would', 'cannot', 'several', 'therefore', 'neither', 'here', 'name', 'eight', 'down', 'sometime', 'also', 'where', 'many', 'alone', 'am', 'too', 'always', 'after', 'fifty', 'hers', 'enough', 'her', 'nor', 'did', 'thereafter', 'twenty', 'third', 'then', 'afterwards', 'ourselves', 'became', 'anyhow', 'you', 'forty', 'made', 'fifteen', 'others', 'seemed', 'serious', 'this', 'of', 'done', 'might', 'until', 'again', 'often', 'be', 'whole', 'under', 'besides', 'just', 'could', 'onto', 'six', 'such', 'thick', 'when', 'not', 'bill', 'five', 'for', 'never', 'only', 'so', 'well', 'ltd', 'is', 'three', 'un', 'much', 'don', 'whereas', 'eleven', 'elsewhere', 'doing', 'four', 'does', 'computer', 'beforehand', 'sixty', 'nobody', 'using', 'doesn', 'to', 'above', 'latter', 'inc', 'thru', 'either', 'she', 'almost', 'become', 'keep', 'me', 'although', 'used', 'more', 'herein', 'noone', 'put', 'once', 'them', 'an', 'during', 'first', 'around', 'last', 'except', 'say', 'nevertheless', 'off', 'side', 'fill', 'with', 'they', 'everyone', 'throughout', 'amoungst'}\n",
      "\n",
      "{'was', 'some', \"doesn't\", 'being', 'wouldn', 'will', 'has', 'below', 'how', 'what', 'couldn', 'his', 'myself', 'won', 'in', 'yours', 'i', 'can', 'few', 'shouldn', 'while', 'itself', 'the', 'that', 'aren', 'isn', 'yourself', 'weren', 'on', 'it', 'which', 'but', 'should', 'have', 're', 've', \"haven't\", 'a', 'he', 'between', 'mustn', 'hadn', 'themselves', 'had', 'because', \"shouldn't\", 'having', 't', 'and', \"wouldn't\", \"won't\", 'm', \"shan't\", 'out', 'very', 'no', 'yourselves', 'my', 'do', 'before', 'each', \"hadn't\", 'why', \"mustn't\", 'here', 'down', 'over', 'where', 'both', 'am', 'too', 'if', 'mightn', 'after', \"you're\", 'hers', 'ain', 'her', 'nor', 'did', 'ma', \"couldn't\", 'or', 'were', 'against', 'own', 'from', 'then', 'ourselves', 'ours', 'these', 'you', 'at', \"she's\", 'wasn', 'are', 'we', \"weren't\", 'now', \"mightn't\", 'this', 'by', 's', 'into', 'of', 'didn', 'until', 'again', 'be', 'those', 'under', 'o', \"hasn't\", 'any', 'just', 'd', 'who', 'such', 'up', \"wasn't\", 'other', 'when', 'not', 'for', 'only', 'so', 'is', 'than', 'its', 'there', 'don', \"you'd\", 'their', 'as', 'most', \"should've\", 'all', 'doing', 'does', \"needn't\", 'him', 'doesn', 'your', \"didn't\", 'above', 'to', \"isn't\", 'needn', 'herself', 'theirs', 'she', 'whom', 'haven', 'me', 'through', 'more', 'shan', 'them', 'himself', 'once', 'an', 'during', 'same', 'll', \"that'll\", \"don't\", 'about', 'off', \"you've\", 'y', 'with', \"aren't\", \"it's\", 'they', 'been', \"you'll\", 'further', 'hasn', 'our'}\n"
     ]
    }
   ],
   "source": [
    "# Stop Words in nltk \n",
    "stop_word = set(STOPWORDS)\n",
    "print(stop_word , end = '\\n\\n')\n",
    "stop_words = set(stopwords.words('english'))\n",
    "print(stop_words)\n",
    "\n",
    "def remove_stopwords_custom(text):\n",
    "    # Tokenize the text\n",
    "    tokens = nltk.word_tokenize(text)\n",
    "    # Remove stopwords from the list of tokens\n",
    "    tokens_filtere = [word for word in tokens if word.lower() not in stop_words]\n",
    "    tokens_filtered = [word for word in tokens_filtere if word.lower() not in stop_word]\n",
    "    # Join the list of tokens back into a single string\n",
    "    text_filtered = ' '.join(tokens_filtered)\n",
    "    # Remove additional unwanted characters using a decoding method\n",
    "    text_filtered = text_filtered.encode('ascii', 'ignore').decode('utf-8')\n",
    "    return text_filtered\n",
    "\n",
    "data['review'] = data['review'].apply(remove_stopwords_custom)"
   ]
  },
  {
   "cell_type": "code",
   "execution_count": 268,
   "id": "901f4480",
   "metadata": {},
   "outputs": [
    {
     "data": {
      "text/plain": [
       "0                                            love echo\n",
       "1                                                loved\n",
       "2    playing game answer question correctly alexa s...\n",
       "3    lot fun thing yr old learns dinosaurs control ...\n",
       "4                                                music\n",
       "Name: review, dtype: object"
      ]
     },
     "execution_count": 268,
     "metadata": {},
     "output_type": "execute_result"
    }
   ],
   "source": [
    "data['review'].head()"
   ]
  },
  {
   "cell_type": "code",
   "execution_count": 269,
   "id": "5d2cc3b1",
   "metadata": {},
   "outputs": [],
   "source": [
    "# function for stemming\n",
    "\n",
    "def get_stem(text):\n",
    "    stemmer = nltk.porter.PorterStemmer()\n",
    "    text = ' '.join([stemmer.stem(word) for word in text.split()])\n",
    "    return text\n",
    "\n",
    "data['review'] = data['review'].apply(get_stem)"
   ]
  },
  {
   "cell_type": "code",
   "execution_count": 270,
   "id": "bc897fc4",
   "metadata": {},
   "outputs": [
    {
     "data": {
      "text/plain": [
       "0                                            love echo\n",
       "1                                                 love\n",
       "2    play game answer question correctli alexa say ...\n",
       "3    lot fun thing yr old learn dinosaur control li...\n",
       "4                                                music\n",
       "Name: review, dtype: object"
      ]
     },
     "execution_count": 270,
     "metadata": {},
     "output_type": "execute_result"
    }
   ],
   "source": [
    "data['review'].head()"
   ]
  },
  {
   "cell_type": "code",
   "execution_count": 271,
   "id": "096b5552",
   "metadata": {},
   "outputs": [],
   "source": [
    "# !python -m spacy download en_core_web_sm\n",
    "# function for lemmatization\n",
    "import spacy\n",
    "nlp = spacy.load('en_core_web_sm')\n",
    "\n",
    "def get_lem(text):\n",
    "    text = nlp(text)\n",
    "    lemmatized_sentence = \" \".join([word.lemma_ for word in text])\n",
    "    return lemmatized_sentence\n",
    "\n",
    "    \n",
    "\n",
    "\n",
    "data['review'] = data['review'].apply(get_lem)"
   ]
  },
  {
   "cell_type": "code",
   "execution_count": 272,
   "id": "c40acdc8",
   "metadata": {},
   "outputs": [
    {
     "data": {
      "text/plain": [
       "0                                            love echo\n",
       "1                                                 love\n",
       "2    play game answer question correctli alexa say ...\n",
       "3    lot fun thing yr old learn dinosaur control li...\n",
       "4                                                music\n",
       "Name: review, dtype: object"
      ]
     },
     "execution_count": 272,
     "metadata": {},
     "output_type": "execute_result"
    }
   ],
   "source": [
    "data['review'].head()"
   ]
  },
  {
   "cell_type": "markdown",
   "id": "1dca6b22",
   "metadata": {},
   "source": [
    "# Feature Extraction"
   ]
  },
  {
   "cell_type": "code",
   "execution_count": 273,
   "id": "b36d5af8",
   "metadata": {},
   "outputs": [
    {
     "name": "stdout",
     "output_type": "stream",
     "text": [
      "[1 1 1 ... 1 1 1]\n"
     ]
    }
   ],
   "source": [
    "# label encoder\n",
    "from sklearn.preprocessing import LabelEncoder\n",
    "\n",
    "labels = data['feedback']\n",
    "encoder = LabelEncoder()\n",
    "label = encoder.fit_transform(labels)\n",
    "print(label)"
   ]
  },
  {
   "cell_type": "code",
   "execution_count": 274,
   "id": "bc004de7",
   "metadata": {},
   "outputs": [],
   "source": [
    "#bag of words\n",
    "from sklearn.feature_extraction.text import TfidfVectorizer\n",
    "#from sklearn.feature_extraction.text import CountVectorizer\n",
    "\n",
    "\n",
    "cv = TfidfVectorizer(max_features=9000,ngram_range=(1,50))\n",
    "\n",
    "X = cv.fit_transform(data['review']).toarray()\n",
    "\n",
    "\n",
    "idf_values = cv.idf_\n",
    "\n",
    "\n",
    "vocabulary = cv.vocabulary_\n"
   ]
  },
  {
   "cell_type": "code",
   "execution_count": 275,
   "id": "6094f38a",
   "metadata": {},
   "outputs": [],
   "source": [
    "from sklearn.model_selection import train_test_split\n",
    "\n",
    "X_train , X_test , y_train , y_test = train_test_split ( X , label , test_size= 0.2 ,shuffle= True )"
   ]
  },
  {
   "cell_type": "code",
   "execution_count": 276,
   "id": "968d1209",
   "metadata": {},
   "outputs": [
    {
     "data": {
      "text/plain": [
       "(1948, 9000)"
      ]
     },
     "execution_count": 276,
     "metadata": {},
     "output_type": "execute_result"
    }
   ],
   "source": [
    "X_train.shape"
   ]
  },
  {
   "cell_type": "markdown",
   "id": "afbedfeb",
   "metadata": {},
   "source": [
    "# Bulid model "
   ]
  },
  {
   "cell_type": "code",
   "execution_count": 290,
   "id": "40b30a72",
   "metadata": {},
   "outputs": [
    {
     "name": "stdout",
     "output_type": "stream",
     "text": [
      "Epoch 1/55\n",
      "61/61 [==============================] - 1s 4ms/step - loss: 0.4601 - accuracy: 0.9117\n",
      "Epoch 2/55\n",
      "61/61 [==============================] - 0s 3ms/step - loss: 0.2999 - accuracy: 0.9117\n",
      "Epoch 3/55\n",
      "61/61 [==============================] - 0s 4ms/step - loss: 0.2934 - accuracy: 0.9117\n",
      "Epoch 4/55\n",
      "61/61 [==============================] - 0s 4ms/step - loss: 0.2906 - accuracy: 0.9117\n",
      "Epoch 5/55\n",
      "61/61 [==============================] - 0s 5ms/step - loss: 0.2877 - accuracy: 0.9117\n",
      "Epoch 6/55\n",
      "61/61 [==============================] - 0s 4ms/step - loss: 0.2841 - accuracy: 0.9117\n",
      "Epoch 7/55\n",
      "61/61 [==============================] - 0s 5ms/step - loss: 0.2804 - accuracy: 0.9117\n",
      "Epoch 8/55\n",
      "61/61 [==============================] - 0s 4ms/step - loss: 0.2760 - accuracy: 0.9117\n",
      "Epoch 9/55\n",
      "61/61 [==============================] - 0s 4ms/step - loss: 0.2696 - accuracy: 0.9117\n",
      "Epoch 10/55\n",
      "61/61 [==============================] - 0s 4ms/step - loss: 0.2627 - accuracy: 0.9117\n",
      "Epoch 11/55\n",
      "61/61 [==============================] - 20s 338ms/step - loss: 0.2542 - accuracy: 0.9117\n",
      "Epoch 12/55\n",
      "61/61 [==============================] - 0s 4ms/step - loss: 0.2430 - accuracy: 0.9117\n",
      "Epoch 13/55\n",
      "61/61 [==============================] - 0s 4ms/step - loss: 0.2291 - accuracy: 0.9117\n",
      "Epoch 14/55\n",
      "61/61 [==============================] - 0s 6ms/step - loss: 0.2112 - accuracy: 0.9117\n",
      "Epoch 15/55\n",
      "61/61 [==============================] - 0s 6ms/step - loss: 0.1900 - accuracy: 0.9117\n",
      "Epoch 16/55\n",
      "61/61 [==============================] - 0s 5ms/step - loss: 0.1652 - accuracy: 0.9127\n",
      "Epoch 17/55\n",
      "61/61 [==============================] - 0s 4ms/step - loss: 0.1429 - accuracy: 0.9235\n",
      "Epoch 18/55\n",
      "61/61 [==============================] - 0s 4ms/step - loss: 0.1264 - accuracy: 0.9389\n",
      "Epoch 19/55\n",
      "61/61 [==============================] - 0s 4ms/step - loss: 0.1131 - accuracy: 0.9533\n",
      "Epoch 20/55\n",
      "61/61 [==============================] - 0s 4ms/step - loss: 0.1041 - accuracy: 0.9625\n",
      "Epoch 21/55\n",
      "61/61 [==============================] - 0s 5ms/step - loss: 0.0975 - accuracy: 0.9682\n",
      "Epoch 22/55\n",
      "61/61 [==============================] - 0s 4ms/step - loss: 0.0917 - accuracy: 0.9779\n",
      "Epoch 23/55\n",
      "61/61 [==============================] - 0s 4ms/step - loss: 0.0870 - accuracy: 0.9764\n",
      "Epoch 24/55\n",
      "61/61 [==============================] - 0s 4ms/step - loss: 0.0833 - accuracy: 0.9820\n",
      "Epoch 25/55\n",
      "61/61 [==============================] - 0s 5ms/step - loss: 0.0801 - accuracy: 0.9825\n",
      "Epoch 26/55\n",
      "61/61 [==============================] - 0s 5ms/step - loss: 0.0769 - accuracy: 0.9846\n",
      "Epoch 27/55\n",
      "61/61 [==============================] - 0s 4ms/step - loss: 0.0741 - accuracy: 0.9861\n",
      "Epoch 28/55\n",
      "61/61 [==============================] - 0s 5ms/step - loss: 0.0717 - accuracy: 0.9882\n",
      "Epoch 29/55\n",
      "61/61 [==============================] - 0s 5ms/step - loss: 0.0693 - accuracy: 0.9892\n",
      "Epoch 30/55\n",
      "61/61 [==============================] - 0s 4ms/step - loss: 0.0671 - accuracy: 0.9892\n",
      "Epoch 31/55\n",
      "61/61 [==============================] - 0s 4ms/step - loss: 0.0651 - accuracy: 0.9902\n",
      "Epoch 32/55\n",
      "61/61 [==============================] - 0s 4ms/step - loss: 0.0634 - accuracy: 0.9918\n",
      "Epoch 33/55\n",
      "61/61 [==============================] - 0s 4ms/step - loss: 0.0617 - accuracy: 0.9923\n",
      "Epoch 34/55\n",
      "61/61 [==============================] - 0s 4ms/step - loss: 0.0598 - accuracy: 0.9928\n",
      "Epoch 35/55\n",
      "61/61 [==============================] - 0s 4ms/step - loss: 0.0582 - accuracy: 0.9928\n",
      "Epoch 36/55\n",
      "61/61 [==============================] - 0s 5ms/step - loss: 0.0567 - accuracy: 0.9923\n",
      "Epoch 37/55\n",
      "61/61 [==============================] - 0s 6ms/step - loss: 0.0553 - accuracy: 0.9928\n",
      "Epoch 38/55\n",
      "61/61 [==============================] - 0s 5ms/step - loss: 0.0543 - accuracy: 0.9933\n",
      "Epoch 39/55\n",
      "61/61 [==============================] - 0s 4ms/step - loss: 0.0525 - accuracy: 0.9928\n",
      "Epoch 40/55\n",
      "61/61 [==============================] - 0s 4ms/step - loss: 0.0512 - accuracy: 0.9933\n",
      "Epoch 41/55\n",
      "61/61 [==============================] - 0s 4ms/step - loss: 0.0503 - accuracy: 0.9933\n",
      "Epoch 42/55\n",
      "61/61 [==============================] - 0s 5ms/step - loss: 0.0492 - accuracy: 0.9938\n",
      "Epoch 43/55\n",
      "61/61 [==============================] - 0s 4ms/step - loss: 0.0479 - accuracy: 0.9938\n",
      "Epoch 44/55\n",
      "61/61 [==============================] - 0s 4ms/step - loss: 0.0472 - accuracy: 0.9938\n",
      "Epoch 45/55\n",
      "61/61 [==============================] - 0s 4ms/step - loss: 0.0461 - accuracy: 0.9938\n",
      "Epoch 46/55\n",
      "61/61 [==============================] - 0s 4ms/step - loss: 0.0449 - accuracy: 0.9944\n",
      "Epoch 47/55\n",
      "61/61 [==============================] - 0s 4ms/step - loss: 0.0440 - accuracy: 0.9938\n",
      "Epoch 48/55\n",
      "61/61 [==============================] - 0s 5ms/step - loss: 0.0432 - accuracy: 0.9938\n",
      "Epoch 49/55\n",
      "61/61 [==============================] - 0s 4ms/step - loss: 0.0426 - accuracy: 0.9938\n",
      "Epoch 50/55\n",
      "61/61 [==============================] - 0s 5ms/step - loss: 0.0415 - accuracy: 0.9938\n",
      "Epoch 51/55\n",
      "61/61 [==============================] - 0s 5ms/step - loss: 0.0408 - accuracy: 0.9944\n",
      "Epoch 52/55\n",
      "61/61 [==============================] - 0s 6ms/step - loss: 0.0404 - accuracy: 0.9944\n",
      "Epoch 53/55\n",
      "61/61 [==============================] - 0s 5ms/step - loss: 0.0390 - accuracy: 0.9944\n",
      "Epoch 54/55\n",
      "61/61 [==============================] - 0s 5ms/step - loss: 0.0387 - accuracy: 0.9944\n",
      "Epoch 55/55\n",
      "61/61 [==============================] - 0s 4ms/step - loss: 0.0376 - accuracy: 0.9944\n"
     ]
    }
   ],
   "source": [
    "classifier = tf.keras.models.Sequential()\n",
    "classifier.add(tf.keras.layers.Dense(units = 1, input_shape=(9000,), activation='sigmoid'))\n",
    "classifier.add(tf.keras.layers.Dense(units = 400, activation='relu'))\n",
    "classifier.add(tf.keras.layers.Dense(units = 1, activation='sigmoid')) \n",
    "classifier.compile(optimizer='Adam', loss='binary_crossentropy', metrics = ['accuracy'])  \n",
    "\n",
    "model = classifier.fit(\n",
    "    X_train, \n",
    "    y_train,  \n",
    "    epochs=55\n",
    "    \n",
    ")\n",
    "\n",
    "\n",
    "\n"
   ]
  },
  {
   "cell_type": "code",
   "execution_count": 300,
   "id": "70618d82",
   "metadata": {},
   "outputs": [
    {
     "name": "stdout",
     "output_type": "stream",
     "text": [
      "INFO:tensorflow:Assets written to: C:\\Users\\MAHMOU~1\\AppData\\Local\\Temp\\tmp4_elohn8\\assets\n"
     ]
    },
    {
     "name": "stderr",
     "output_type": "stream",
     "text": [
      "INFO:tensorflow:Assets written to: C:\\Users\\MAHMOU~1\\AppData\\Local\\Temp\\tmp4_elohn8\\assets\n"
     ]
    }
   ],
   "source": [
    "# # Convert the model to TensorFlow Lite format\n",
    "# converter = tf.lite.TFLiteConverter.from_keras_model(classifier)\n",
    "# tflite_model = converter.convert()\n",
    "\n",
    "# # Save the TensorFlow Lite model to a file\n",
    "# with open('my_model.tflite', 'wb') as file:\n",
    "#     file.write(tflite_model)"
   ]
  },
  {
   "cell_type": "code",
   "execution_count": 292,
   "id": "29dbfc10",
   "metadata": {},
   "outputs": [
    {
     "data": {
      "text/plain": [
       "<matplotlib.legend.Legend at 0x1a461ae2850>"
      ]
     },
     "execution_count": 292,
     "metadata": {},
     "output_type": "execute_result"
    },
    {
     "data": {
      "image/png": "[encoded data removed]",
      "text/plain": [
       "<Figure size 640x480 with 1 Axes>"
      ]
     },
     "metadata": {},
     "output_type": "display_data"
    }
   ],
   "source": [
    "plt.plot(model.history['loss'])\n",
    "plt.title('Model loss progress during training')\n",
    "plt.xlabel('Epoch')\n",
    "plt.ylabel('Training loss')\n",
    "plt.legend(['Training loss'])"
   ]
  },
  {
   "cell_type": "markdown",
   "id": "2b6f66c2",
   "metadata": {},
   "source": [
    "## Create Voting Model "
   ]
  },
  {
   "cell_type": "code",
   "execution_count": 293,
   "id": "2e3b8634",
   "metadata": {},
   "outputs": [
    {
     "data": {
      "text/plain": [
       "<matplotlib.legend.Legend at 0x1a479536e10>"
      ]
     },
     "execution_count": 293,
     "metadata": {},
     "output_type": "execute_result"
    },
    {
     "data": {
      "image/png": "[encoded data removed]",
      "text/plain": [
       "<Figure size 640x480 with 1 Axes>"
      ]
     },
     "metadata": {},
     "output_type": "display_data"
    }
   ],
   "source": [
    "plt.plot(model.history['accuracy'])\n",
    "plt.title('Model accuracy progress during training')\n",
    "plt.xlabel('Epoch')\n",
    "plt.ylabel('Training accuracy')\n",
    "plt.legend(['Training accuracy'])"
   ]
  },
  {
   "cell_type": "code",
   "execution_count": 294,
   "id": "cf47c889",
   "metadata": {},
   "outputs": [
    {
     "name": "stdout",
     "output_type": "stream",
     "text": [
      "16/16 [==============================] - 0s 3ms/step\n",
      "[[0.99995244]\n",
      " [0.99968696]\n",
      " [0.9999936 ]\n",
      " [0.6166297 ]\n",
      " [0.93020827]]\n"
     ]
    }
   ],
   "source": [
    "y_pred_test = classifier.predict(X_test)   \n",
    "y_pred_test\n",
    "print (y_pred_test[1:6])\n",
    "y_pred_test = (y_pred_test > 0.5)\n"
   ]
  },
  {
   "cell_type": "code",
   "execution_count": 299,
   "id": "ed925b45",
   "metadata": {},
   "outputs": [
    {
     "name": "stdout",
     "output_type": "stream",
     "text": [
      "Accuracy: 90.35%\n",
      "Precision: 91.16%\n",
      "Recall: 98.86%\n",
      "F1 score: 94.85%\n"
     ]
    }
   ],
   "source": [
    "from sklearn.metrics import accuracy_score, precision_score, recall_score, f1_score\n",
    "\n",
    "# Accuracy\n",
    "accuracy = accuracy_score(y_test, y_pred_test)\n",
    "print(f'Accuracy: {round(accuracy * 100, 2)}%')\n",
    "\n",
    "# Precision \n",
    "precision = precision_score(y_test, y_pred_test)\n",
    "print(f'Precision: {round(precision * 100, 2)}%') \n",
    "\n",
    "# Recall \n",
    "recall = recall_score(y_test, y_pred_test)\n",
    "print(f'Recall: {round(recall * 100, 2)}%')\n",
    "\n",
    "# F1 score (harmonic mean of precision and recall)\n",
    "f1 = f1_score(y_test, y_pred_test) \n",
    "print(f'F1 score: {round(f1 * 100, 2)}%')"
   ]
  },
  {
   "cell_type": "code",
   "execution_count": 297,
   "id": "3060ee74",
   "metadata": {},
   "outputs": [
    {
     "data": {
      "text/plain": [
       "([<matplotlib.axis.YTick at 0x1a46d155490>,\n",
       "  <matplotlib.axis.YTick at 0x1a401a74e10>],\n",
       " [Text(0, 0, ''), Text(0, 1, '')])"
      ]
     },
     "execution_count": 297,
     "metadata": {},
     "output_type": "execute_result"
    },
    {
     "data": {
      "image/png": "[encoded data removed]",
      "text/plain": [
       "<Figure size 500x500 with 1 Axes>"
      ]
     },
     "metadata": {},
     "output_type": "display_data"
    }
   ],
   "source": [
    "save(\"text_classifier.h5\")"
   ]
  },
  {
   "cell_type": "markdown",
   "id": "70e5521c",
   "metadata": {},
   "source": [
    "### save model"
   ]
  },
  {
   "cell_type": "code",
   "execution_count": null,
   "id": "86f97586",
   "metadata": {},
   "outputs": [],
   "source": [
    "import pickle\n",
    "\n",
    "\n",
    "# Save the trained model to a file\n",
    "with open('model.pkl', 'wb') as file:\n",
    "    pickle.dump(ensemble_model , file)"
   ]
  },
  {
   "cell_type": "markdown",
   "id": "43ca9b67",
   "metadata": {},
   "source": [
    "### save vocabulary & idf_values"
   ]
  },
  {
   "cell_type": "code",
   "execution_count": null,
   "id": "a731f927",
   "metadata": {},
   "outputs": [],
   "source": [
    "import pickle\n",
    "\n",
    "np.save('idf_values.npy', idf_values)\n",
    "\n",
    "with open('vocabulary.pkl', 'wb') as fp:\n",
    "    pickle.dump(vocabulary, fp)\n",
    "    print('vocabulary saved successfully to file')"
   ]
  },
  {
   "cell_type": "code",
   "execution_count": null,
   "id": "de1c5723",
   "metadata": {},
   "outputs": [],
   "source": []
  },
  {
   "cell_type": "code",
   "execution_count": null,
   "id": "9ce7fb9b",
   "metadata": {},
   "outputs": [],
   "source": []
  },
  {
   "cell_type": "code",
   "execution_count": null,
   "id": "5b1e1721",
   "metadata": {},
   "outputs": [],
   "source": []
  },
  {
   "cell_type": "code",
   "execution_count": null,
   "id": "3900cc03",
   "metadata": {},
   "outputs": [],
   "source": []
  }
 ],
 "metadata": {
  "kernelspec": {
   "display_name": "Python 3 (ipykernel)",
   "language": "python",
   "name": "python3"
  },
  "language_info": {
   "codemirror_mode": {
    "name": "ipython",
    "version": 3
   },
   "file_extension": ".py",
   "mimetype": "text/x-python",
   "name": "python",
   "nbconvert_exporter": "python",
   "pygments_lexer": "ipython3",
   "version": "3.11.1"
  }
 },
 "nbformat": 4,
 "nbformat_minor": 5
}
